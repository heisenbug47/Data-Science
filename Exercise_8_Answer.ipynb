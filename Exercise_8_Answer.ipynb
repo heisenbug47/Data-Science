{
  "nbformat": 4,
  "nbformat_minor": 0,
  "metadata": {
    "colab": {
      "name": "Exercise 8 - Answer.ipynb",
      "version": "0.3.2",
      "provenance": [],
      "include_colab_link": true
    },
    "kernelspec": {
      "name": "python3",
      "display_name": "Python 3"
    },
    "accelerator": "GPU"
  },
  "cells": [
    {
      "cell_type": "markdown",
      "metadata": {
        "id": "view-in-github",
        "colab_type": "text"
      },
      "source": [
        "<a href=\"https://colab.research.google.com/github/heisenbug47/Data-Science/blob/master/Exercise_8_Answer.ipynb\" target=\"_parent\"><img src=\"https://colab.research.google.com/assets/colab-badge.svg\" alt=\"Open In Colab\"/></a>"
      ]
    },
    {
      "cell_type": "code",
      "metadata": {
        "id": "wYtuKeK0dImp",
        "colab_type": "code",
        "colab": {}
      },
      "source": [
        "import csv\n",
        "import numpy as np\n",
        "import tensorflow as tf\n",
        "from tensorflow.keras.preprocessing.image import ImageDataGenerator\n",
        "from google.colab import files"
      ],
      "execution_count": 0,
      "outputs": []
    },
    {
      "cell_type": "markdown",
      "metadata": {
        "id": "EmMyh9_mkDHF",
        "colab_type": "text"
      },
      "source": [
        "The data for this exercise is available at: https://www.kaggle.com/datamunge/sign-language-mnist/home\n",
        "\n",
        "Sign up and download to find 2 CSV files: sign_mnist_test.csv and sign_mnist_train.csv -- You will upload both of them using this button before you can continue.\n"
      ]
    },
    {
      "cell_type": "code",
      "metadata": {
        "id": "IcLOZlnnc_N7",
        "colab_type": "code",
        "outputId": "54f1226e-46ac-49fa-db87-77c7e65dfeeb",
        "colab": {
          "resources": {
            "http://localhost:8080/nbextensions/google.colab/files.js": {
              "data": "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",
              "ok": true,
              "headers": [
                [
                  "content-type",
                  "application/javascript"
                ]
              ],
              "status": 200,
              "status_text": ""
            }
          },
          "base_uri": "https://localhost:8080/",
          "height": 108
        }
      },
      "source": [
        "uploaded=files.upload()"
      ],
      "execution_count": 0,
      "outputs": [
        {
          "output_type": "display_data",
          "data": {
            "text/html": [
              "\n",
              "     <input type=\"file\" id=\"files-7fbbc619-83a2-4ede-97b4-03948f960ac9\" name=\"files[]\" multiple disabled />\n",
              "     <output id=\"result-7fbbc619-83a2-4ede-97b4-03948f960ac9\">\n",
              "      Upload widget is only available when the cell has been executed in the\n",
              "      current browser session. Please rerun this cell to enable.\n",
              "      </output>\n",
              "      <script src=\"/nbextensions/google.colab/files.js\"></script> "
            ],
            "text/plain": [
              "<IPython.core.display.HTML object>"
            ]
          },
          "metadata": {
            "tags": []
          }
        },
        {
          "output_type": "stream",
          "text": [
            "Saving sign_mnist_test.csv to sign_mnist_test.csv\n",
            "Saving sign_mnist_train.csv to sign_mnist_train.csv\n"
          ],
          "name": "stdout"
        }
      ]
    },
    {
      "cell_type": "code",
      "metadata": {
        "id": "4kxw-_rmcnVu",
        "colab_type": "code",
        "colab": {}
      },
      "source": [
        "def get_data(filename):\n",
        "    with open(filename) as training_file:\n",
        "        csv_reader = csv.reader(training_file, delimiter=',')\n",
        "        first_line = True\n",
        "        temp_images = []\n",
        "        temp_labels = []\n",
        "        for row in csv_reader:\n",
        "            if first_line:\n",
        "                # print(\"Ignoring first line\")\n",
        "                first_line = False\n",
        "            else:\n",
        "                temp_labels.append(row[0])\n",
        "                image_data = row[1:785]\n",
        "                image_data_as_array = np.array_split(image_data, 28)\n",
        "                temp_images.append(image_data_as_array)\n",
        "        images = np.array(temp_images).astype('float')\n",
        "        labels = np.array(temp_labels).astype('float')\n",
        "    return images, labels\n",
        "\n"
      ],
      "execution_count": 0,
      "outputs": []
    },
    {
      "cell_type": "code",
      "metadata": {
        "id": "9eTIhtyqt4FJ",
        "colab_type": "code",
        "outputId": "ef4386dc-6fdc-43a5-acab-eb0a43645db5",
        "colab": {
          "base_uri": "https://localhost:8080/",
          "height": 153
        }
      },
      "source": [
        "training_images, training_labels = get_data('sign_mnist_train.csv')\n",
        "testing_images, testing_labels = get_data('sign_mnist_test.csv')\n",
        "\n",
        "print(\"\\nTraining Dimensions:\")\n",
        "print(training_images.shape)\n",
        "print(training_labels.shape)\n",
        "print(\"\\nTest Dimensions:\")\n",
        "print(testing_images.shape)\n",
        "print(testing_labels.shape)"
      ],
      "execution_count": 0,
      "outputs": [
        {
          "output_type": "stream",
          "text": [
            "\n",
            "Training Dimensions:\n",
            "(27455, 28, 28)\n",
            "(27455,)\n",
            "\n",
            "Test Dimensions:\n",
            "(7172, 28, 28)\n",
            "(7172,)\n"
          ],
          "name": "stdout"
        }
      ]
    },
    {
      "cell_type": "code",
      "metadata": {
        "id": "awoqRpyZdQkD",
        "colab_type": "code",
        "outputId": "49916b49-26b1-46c3-b352-c68ebadafbd7",
        "colab": {
          "base_uri": "https://localhost:8080/",
          "height": 51
        }
      },
      "source": [
        "training_images = np.expand_dims(training_images, axis=3)\n",
        "testing_images = np.expand_dims(testing_images, axis=3)\n",
        "\n",
        "train_datagen = ImageDataGenerator(\n",
        "    rescale=1. / 255,\n",
        "    rotation_range=40,\n",
        "    width_shift_range=0.2,\n",
        "    height_shift_range=0.2,\n",
        "    shear_range=0.2,\n",
        "    zoom_range=0.2,\n",
        "    horizontal_flip=True,\n",
        "    fill_mode='nearest')\n",
        "\n",
        "validation_datagen = ImageDataGenerator(\n",
        "    rescale=1. / 255)\n",
        "\n",
        "print(training_images.shape)\n",
        "print(testing_images.shape)"
      ],
      "execution_count": 0,
      "outputs": [
        {
          "output_type": "stream",
          "text": [
            "(27455, 28, 28, 1)\n",
            "(7172, 28, 28, 1)\n"
          ],
          "name": "stdout"
        }
      ]
    },
    {
      "cell_type": "code",
      "metadata": {
        "id": "Rmb7S32cgRqS",
        "colab_type": "code",
        "outputId": "ad1db29a-d8bd-42db-97b1-e3b430660f60",
        "colab": {
          "base_uri": "https://localhost:8080/",
          "height": 1000
        }
      },
      "source": [
        "model = tf.keras.models.Sequential([\n",
        "    tf.keras.layers.Conv2D(64, (3, 3), activation='relu', input_shape=(28, 28, 1)),\n",
        "    tf.keras.layers.MaxPooling2D(2, 2),\n",
        "    tf.keras.layers.Conv2D(64, (3, 3), activation='relu'),\n",
        "    tf.keras.layers.MaxPooling2D(2, 2),\n",
        "    tf.keras.layers.Flatten(),\n",
        "    tf.keras.layers.Dense(128, activation=tf.nn.relu),\n",
        "    tf.keras.layers.Dense(26, activation=tf.nn.softmax)])\n",
        "\n",
        "model.compile(optimizer = tf.train.AdamOptimizer(),\n",
        "              loss = 'sparse_categorical_crossentropy',\n",
        "              metrics=['accuracy'])\n",
        "\n",
        "history = model.fit_generator(train_datagen.flow(training_images, \n",
        "                                                 training_labels, \n",
        "                                                 batch_size=32),\n",
        "                              steps_per_epoch=len(training_images) / 32,\n",
        "                              epochs=100,\n",
        "                              validation_data=validation_datagen.flow(testing_images, \n",
        "                                                                      testing_labels, \n",
        "                                                                      batch_size=32),\n",
        "                              validation_steps=len(testing_images) / 32)\n",
        "\n",
        "model.evaluate(testing_images, testing_labels)\n"
      ],
      "execution_count": 0,
      "outputs": [
        {
          "output_type": "stream",
          "text": [
            "WARNING: Logging before flag parsing goes to stderr.\n",
            "W0702 08:58:08.185979 140233706182528 deprecation.py:506] From /usr/local/lib/python3.6/dist-packages/tensorflow/python/ops/init_ops.py:1251: calling VarianceScaling.__init__ (from tensorflow.python.ops.init_ops) with dtype is deprecated and will be removed in a future version.\n",
            "Instructions for updating:\n",
            "Call initializer instance with the dtype argument instead of passing it to the constructor\n"
          ],
          "name": "stderr"
        },
        {
          "output_type": "stream",
          "text": [
            "Epoch 1/100\n",
            "858/857 [==============================] - 18s 21ms/step - loss: 2.8723 - acc: 0.1347 - val_loss: 2.0430 - val_acc: 0.3518\n",
            "Epoch 2/100\n",
            "858/857 [==============================] - 15s 17ms/step - loss: 2.2013 - acc: 0.3029 - val_loss: 1.4983 - val_acc: 0.5300\n",
            "Epoch 3/100\n",
            "858/857 [==============================] - 15s 17ms/step - loss: 1.8343 - acc: 0.4139 - val_loss: 1.2353 - val_acc: 0.5778\n",
            "Epoch 4/100\n",
            "858/857 [==============================] - 15s 18ms/step - loss: 1.5871 - acc: 0.4887 - val_loss: 1.0402 - val_acc: 0.6364\n",
            "Epoch 5/100\n",
            "858/857 [==============================] - 15s 18ms/step - loss: 1.4238 - acc: 0.5399 - val_loss: 1.0077 - val_acc: 0.6465\n",
            "Epoch 6/100\n",
            "858/857 [==============================] - 16s 18ms/step - loss: 1.3028 - acc: 0.5794 - val_loss: 0.9338 - val_acc: 0.6613\n",
            "Epoch 7/100\n",
            "858/857 [==============================] - 15s 18ms/step - loss: 1.1967 - acc: 0.6091 - val_loss: 0.7385 - val_acc: 0.7388\n",
            "Epoch 8/100\n",
            "858/857 [==============================] - 15s 18ms/step - loss: 1.1292 - acc: 0.6288 - val_loss: 0.6936 - val_acc: 0.7476\n",
            "Epoch 9/100\n",
            "858/857 [==============================] - 16s 18ms/step - loss: 1.0708 - acc: 0.6488 - val_loss: 0.6567 - val_acc: 0.7637\n",
            "Epoch 10/100\n",
            "858/857 [==============================] - 15s 18ms/step - loss: 1.0025 - acc: 0.6670 - val_loss: 0.5749 - val_acc: 0.7927\n",
            "Epoch 11/100\n",
            "858/857 [==============================] - 15s 18ms/step - loss: 0.9665 - acc: 0.6763 - val_loss: 0.5158 - val_acc: 0.8250\n",
            "Epoch 12/100\n",
            "858/857 [==============================] - 15s 18ms/step - loss: 0.9295 - acc: 0.6893 - val_loss: 0.5155 - val_acc: 0.8157\n",
            "Epoch 13/100\n",
            "858/857 [==============================] - 15s 18ms/step - loss: 0.8819 - acc: 0.7085 - val_loss: 0.5183 - val_acc: 0.8238\n",
            "Epoch 14/100\n",
            "858/857 [==============================] - 15s 18ms/step - loss: 0.8359 - acc: 0.7209 - val_loss: 0.4962 - val_acc: 0.8180\n",
            "Epoch 15/100\n",
            "858/857 [==============================] - 15s 18ms/step - loss: 0.8289 - acc: 0.7201 - val_loss: 0.4057 - val_acc: 0.8617\n",
            "Epoch 16/100\n",
            "858/857 [==============================] - 16s 18ms/step - loss: 0.8029 - acc: 0.7301 - val_loss: 0.4050 - val_acc: 0.8465\n",
            "Epoch 17/100\n",
            "858/857 [==============================] - 16s 18ms/step - loss: 0.7564 - acc: 0.7447 - val_loss: 0.3733 - val_acc: 0.8684\n",
            "Epoch 18/100\n",
            "858/857 [==============================] - 15s 18ms/step - loss: 0.7311 - acc: 0.7530 - val_loss: 0.3446 - val_acc: 0.8769\n",
            "Epoch 19/100\n",
            "858/857 [==============================] - 15s 18ms/step - loss: 0.7258 - acc: 0.7540 - val_loss: 0.4252 - val_acc: 0.8565\n",
            "Epoch 20/100\n",
            "858/857 [==============================] - 15s 18ms/step - loss: 0.7022 - acc: 0.7656 - val_loss: 0.3329 - val_acc: 0.8760\n",
            "Epoch 21/100\n",
            "858/857 [==============================] - 15s 18ms/step - loss: 0.6821 - acc: 0.7684 - val_loss: 0.3456 - val_acc: 0.8798\n",
            "Epoch 22/100\n",
            "858/857 [==============================] - 15s 18ms/step - loss: 0.6612 - acc: 0.7751 - val_loss: 0.3254 - val_acc: 0.8753\n",
            "Epoch 23/100\n",
            "858/857 [==============================] - 15s 18ms/step - loss: 0.6593 - acc: 0.7775 - val_loss: 0.4256 - val_acc: 0.8369\n",
            "Epoch 24/100\n",
            "858/857 [==============================] - 15s 17ms/step - loss: 0.6413 - acc: 0.7826 - val_loss: 0.2742 - val_acc: 0.8974\n",
            "Epoch 25/100\n",
            "858/857 [==============================] - 15s 17ms/step - loss: 0.6219 - acc: 0.7921 - val_loss: 0.3561 - val_acc: 0.8705\n",
            "Epoch 26/100\n",
            "858/857 [==============================] - 15s 18ms/step - loss: 0.6116 - acc: 0.7913 - val_loss: 0.3423 - val_acc: 0.8797\n",
            "Epoch 27/100\n",
            "858/857 [==============================] - 15s 18ms/step - loss: 0.6120 - acc: 0.7939 - val_loss: 0.2796 - val_acc: 0.8975\n",
            "Epoch 28/100\n",
            "858/857 [==============================] - 15s 18ms/step - loss: 0.5866 - acc: 0.7998 - val_loss: 0.2694 - val_acc: 0.8997\n",
            "Epoch 29/100\n",
            "858/857 [==============================] - 16s 18ms/step - loss: 0.5843 - acc: 0.8042 - val_loss: 0.2820 - val_acc: 0.9004\n",
            "Epoch 30/100\n",
            "858/857 [==============================] - 15s 18ms/step - loss: 0.5704 - acc: 0.8055 - val_loss: 0.2904 - val_acc: 0.8965\n",
            "Epoch 31/100\n",
            "858/857 [==============================] - 15s 17ms/step - loss: 0.5606 - acc: 0.8102 - val_loss: 0.3126 - val_acc: 0.8907\n",
            "Epoch 32/100\n",
            "858/857 [==============================] - 15s 18ms/step - loss: 0.5400 - acc: 0.8171 - val_loss: 0.4403 - val_acc: 0.8618\n",
            "Epoch 33/100\n",
            "858/857 [==============================] - 15s 17ms/step - loss: 0.5362 - acc: 0.8206 - val_loss: 0.2662 - val_acc: 0.8985\n",
            "Epoch 34/100\n",
            "858/857 [==============================] - 15s 18ms/step - loss: 0.5224 - acc: 0.8231 - val_loss: 0.3296 - val_acc: 0.8854\n",
            "Epoch 35/100\n",
            "858/857 [==============================] - 15s 18ms/step - loss: 0.5252 - acc: 0.8229 - val_loss: 0.2626 - val_acc: 0.9046\n",
            "Epoch 36/100\n",
            "858/857 [==============================] - 15s 18ms/step - loss: 0.5246 - acc: 0.8224 - val_loss: 0.2354 - val_acc: 0.9141\n",
            "Epoch 37/100\n",
            "858/857 [==============================] - 16s 18ms/step - loss: 0.4996 - acc: 0.8313 - val_loss: 0.2026 - val_acc: 0.9322\n",
            "Epoch 38/100\n",
            "858/857 [==============================] - 16s 18ms/step - loss: 0.5018 - acc: 0.8322 - val_loss: 0.2096 - val_acc: 0.9253\n",
            "Epoch 39/100\n",
            "858/857 [==============================] - 15s 18ms/step - loss: 0.4919 - acc: 0.8338 - val_loss: 0.2517 - val_acc: 0.9147\n",
            "Epoch 40/100\n",
            "858/857 [==============================] - 15s 18ms/step - loss: 0.4965 - acc: 0.8334 - val_loss: 0.2324 - val_acc: 0.9127\n",
            "Epoch 41/100\n",
            "858/857 [==============================] - 15s 18ms/step - loss: 0.4892 - acc: 0.8353 - val_loss: 0.2009 - val_acc: 0.9232\n",
            "Epoch 42/100\n",
            "858/857 [==============================] - 15s 18ms/step - loss: 0.4686 - acc: 0.8396 - val_loss: 0.2310 - val_acc: 0.9147\n",
            "Epoch 43/100\n",
            "858/857 [==============================] - 15s 18ms/step - loss: 0.4654 - acc: 0.8423 - val_loss: 0.2603 - val_acc: 0.9048\n",
            "Epoch 44/100\n",
            "858/857 [==============================] - 15s 18ms/step - loss: 0.4604 - acc: 0.8419 - val_loss: 0.2088 - val_acc: 0.9258\n",
            "Epoch 45/100\n",
            "858/857 [==============================] - 15s 18ms/step - loss: 0.4510 - acc: 0.8467 - val_loss: 0.1960 - val_acc: 0.9276\n",
            "Epoch 46/100\n",
            "858/857 [==============================] - 16s 18ms/step - loss: 0.4576 - acc: 0.8429 - val_loss: 0.2728 - val_acc: 0.8996\n",
            "Epoch 47/100\n",
            "858/857 [==============================] - 15s 18ms/step - loss: 0.4459 - acc: 0.8504 - val_loss: 0.2047 - val_acc: 0.9321\n",
            "Epoch 48/100\n",
            "858/857 [==============================] - 15s 18ms/step - loss: 0.4405 - acc: 0.8519 - val_loss: 0.2335 - val_acc: 0.9175\n",
            "Epoch 49/100\n",
            "858/857 [==============================] - 15s 18ms/step - loss: 0.4382 - acc: 0.8540 - val_loss: 0.1814 - val_acc: 0.9300\n",
            "Epoch 50/100\n",
            "858/857 [==============================] - 15s 17ms/step - loss: 0.4306 - acc: 0.8535 - val_loss: 0.2150 - val_acc: 0.9209\n",
            "Epoch 51/100\n",
            "858/857 [==============================] - 15s 17ms/step - loss: 0.4305 - acc: 0.8553 - val_loss: 0.1608 - val_acc: 0.9421\n",
            "Epoch 52/100\n",
            "858/857 [==============================] - 15s 17ms/step - loss: 0.4242 - acc: 0.8542 - val_loss: 0.1635 - val_acc: 0.9410\n",
            "Epoch 53/100\n",
            "858/857 [==============================] - 15s 17ms/step - loss: 0.4164 - acc: 0.8603 - val_loss: 0.1782 - val_acc: 0.9400\n",
            "Epoch 54/100\n",
            "858/857 [==============================] - 15s 17ms/step - loss: 0.4153 - acc: 0.8594 - val_loss: 0.1806 - val_acc: 0.9407\n",
            "Epoch 55/100\n",
            "858/857 [==============================] - 15s 18ms/step - loss: 0.4124 - acc: 0.8608 - val_loss: 0.1658 - val_acc: 0.9374\n",
            "Epoch 56/100\n",
            "858/857 [==============================] - 15s 17ms/step - loss: 0.4046 - acc: 0.8616 - val_loss: 0.1846 - val_acc: 0.9329\n",
            "Epoch 57/100\n",
            "858/857 [==============================] - 15s 17ms/step - loss: 0.4008 - acc: 0.8655 - val_loss: 0.2089 - val_acc: 0.9275\n",
            "Epoch 58/100\n",
            "858/857 [==============================] - 15s 18ms/step - loss: 0.4090 - acc: 0.8627 - val_loss: 0.1821 - val_acc: 0.9345\n",
            "Epoch 59/100\n",
            "858/857 [==============================] - 15s 17ms/step - loss: 0.4033 - acc: 0.8649 - val_loss: 0.1576 - val_acc: 0.9498\n",
            "Epoch 60/100\n",
            "858/857 [==============================] - 15s 17ms/step - loss: 0.3914 - acc: 0.8679 - val_loss: 0.1835 - val_acc: 0.9296\n",
            "Epoch 61/100\n",
            "858/857 [==============================] - 15s 17ms/step - loss: 0.3895 - acc: 0.8677 - val_loss: 0.1889 - val_acc: 0.9349\n",
            "Epoch 62/100\n",
            "858/857 [==============================] - 15s 17ms/step - loss: 0.3961 - acc: 0.8684 - val_loss: 0.1359 - val_acc: 0.9497\n",
            "Epoch 63/100\n",
            "858/857 [==============================] - 15s 18ms/step - loss: 0.3825 - acc: 0.8689 - val_loss: 0.1634 - val_acc: 0.9399\n",
            "Epoch 64/100\n",
            "858/857 [==============================] - 15s 17ms/step - loss: 0.3854 - acc: 0.8708 - val_loss: 0.1528 - val_acc: 0.9490\n",
            "Epoch 65/100\n",
            "858/857 [==============================] - 15s 17ms/step - loss: 0.3858 - acc: 0.8676 - val_loss: 0.1366 - val_acc: 0.9566\n",
            "Epoch 66/100\n",
            "858/857 [==============================] - 15s 17ms/step - loss: 0.3646 - acc: 0.8748 - val_loss: 0.1875 - val_acc: 0.9288\n",
            "Epoch 67/100\n",
            "858/857 [==============================] - 15s 17ms/step - loss: 0.3778 - acc: 0.8739 - val_loss: 0.1798 - val_acc: 0.9395\n",
            "Epoch 68/100\n",
            "858/857 [==============================] - 15s 17ms/step - loss: 0.3626 - acc: 0.8784 - val_loss: 0.1426 - val_acc: 0.9525\n",
            "Epoch 69/100\n",
            "858/857 [==============================] - 15s 18ms/step - loss: 0.3714 - acc: 0.8773 - val_loss: 0.1483 - val_acc: 0.9497\n",
            "Epoch 70/100\n",
            "858/857 [==============================] - 15s 17ms/step - loss: 0.3571 - acc: 0.8797 - val_loss: 0.1921 - val_acc: 0.9306\n",
            "Epoch 71/100\n",
            "858/857 [==============================] - 15s 17ms/step - loss: 0.3654 - acc: 0.8780 - val_loss: 0.1712 - val_acc: 0.9399\n",
            "Epoch 72/100\n",
            "858/857 [==============================] - 15s 17ms/step - loss: 0.3573 - acc: 0.8793 - val_loss: 0.1520 - val_acc: 0.9448\n",
            "Epoch 73/100\n",
            "858/857 [==============================] - 15s 17ms/step - loss: 0.3499 - acc: 0.8829 - val_loss: 0.1948 - val_acc: 0.9262\n",
            "Epoch 74/100\n",
            "858/857 [==============================] - 15s 17ms/step - loss: 0.3584 - acc: 0.8800 - val_loss: 0.2703 - val_acc: 0.8960\n",
            "Epoch 75/100\n",
            "858/857 [==============================] - 15s 17ms/step - loss: 0.3446 - acc: 0.8839 - val_loss: 0.1379 - val_acc: 0.9545\n",
            "Epoch 76/100\n",
            "858/857 [==============================] - 15s 17ms/step - loss: 0.3532 - acc: 0.8801 - val_loss: 0.1927 - val_acc: 0.9413\n",
            "Epoch 77/100\n",
            "858/857 [==============================] - 14s 17ms/step - loss: 0.3559 - acc: 0.8804 - val_loss: 0.1474 - val_acc: 0.9522\n",
            "Epoch 78/100\n",
            "858/857 [==============================] - 15s 17ms/step - loss: 0.3427 - acc: 0.8855 - val_loss: 0.1731 - val_acc: 0.9410\n",
            "Epoch 79/100\n",
            "858/857 [==============================] - 15s 17ms/step - loss: 0.3485 - acc: 0.8830 - val_loss: 0.1477 - val_acc: 0.9476\n",
            "Epoch 80/100\n",
            "858/857 [==============================] - 15s 18ms/step - loss: 0.3514 - acc: 0.8812 - val_loss: 0.1451 - val_acc: 0.9540\n",
            "Epoch 81/100\n",
            "858/857 [==============================] - 15s 17ms/step - loss: 0.3429 - acc: 0.8863 - val_loss: 0.1650 - val_acc: 0.9460\n",
            "Epoch 82/100\n",
            "858/857 [==============================] - 15s 17ms/step - loss: 0.3385 - acc: 0.8875 - val_loss: 0.1516 - val_acc: 0.9435\n",
            "Epoch 83/100\n",
            "858/857 [==============================] - 15s 17ms/step - loss: 0.3346 - acc: 0.8869 - val_loss: 0.1483 - val_acc: 0.9441\n",
            "Epoch 84/100\n",
            "858/857 [==============================] - 15s 17ms/step - loss: 0.3332 - acc: 0.8880 - val_loss: 0.1233 - val_acc: 0.9522\n",
            "Epoch 85/100\n",
            "858/857 [==============================] - 15s 17ms/step - loss: 0.3299 - acc: 0.8907 - val_loss: 0.1633 - val_acc: 0.9460\n",
            "Epoch 86/100\n",
            "858/857 [==============================] - 15s 17ms/step - loss: 0.3239 - acc: 0.8904 - val_loss: 0.1257 - val_acc: 0.9571\n",
            "Epoch 87/100\n",
            "858/857 [==============================] - 15s 17ms/step - loss: 0.3257 - acc: 0.8893 - val_loss: 0.1450 - val_acc: 0.9480\n",
            "Epoch 88/100\n",
            "858/857 [==============================] - 15s 17ms/step - loss: 0.3155 - acc: 0.8946 - val_loss: 0.1140 - val_acc: 0.9618\n",
            "Epoch 89/100\n",
            "858/857 [==============================] - 15s 17ms/step - loss: 0.3220 - acc: 0.8929 - val_loss: 0.1268 - val_acc: 0.9544\n",
            "Epoch 90/100\n",
            "858/857 [==============================] - 15s 17ms/step - loss: 0.3203 - acc: 0.8900 - val_loss: 0.1316 - val_acc: 0.9537\n",
            "Epoch 91/100\n",
            "858/857 [==============================] - 15s 17ms/step - loss: 0.3240 - acc: 0.8904 - val_loss: 0.1418 - val_acc: 0.9541\n",
            "Epoch 92/100\n",
            "858/857 [==============================] - 15s 17ms/step - loss: 0.3215 - acc: 0.8909 - val_loss: 0.1689 - val_acc: 0.9393\n",
            "Epoch 93/100\n",
            "858/857 [==============================] - 15s 18ms/step - loss: 0.3071 - acc: 0.8958 - val_loss: 0.1037 - val_acc: 0.9651\n",
            "Epoch 94/100\n",
            "858/857 [==============================] - 15s 18ms/step - loss: 0.3018 - acc: 0.8983 - val_loss: 0.1211 - val_acc: 0.9565\n",
            "Epoch 95/100\n",
            "858/857 [==============================] - 15s 17ms/step - loss: 0.3169 - acc: 0.8909 - val_loss: 0.1398 - val_acc: 0.9501\n",
            "Epoch 96/100\n",
            "858/857 [==============================] - 15s 17ms/step - loss: 0.3076 - acc: 0.8962 - val_loss: 0.1104 - val_acc: 0.9637\n",
            "Epoch 97/100\n",
            "858/857 [==============================] - 15s 18ms/step - loss: 0.3081 - acc: 0.8981 - val_loss: 0.1485 - val_acc: 0.9522\n",
            "Epoch 98/100\n",
            "858/857 [==============================] - 15s 18ms/step - loss: 0.3055 - acc: 0.8985 - val_loss: 0.1268 - val_acc: 0.9583\n",
            "Epoch 99/100\n",
            "858/857 [==============================] - 14s 17ms/step - loss: 0.2973 - acc: 0.9004 - val_loss: 0.1755 - val_acc: 0.9318\n",
            "Epoch 100/100\n",
            "858/857 [==============================] - 15s 18ms/step - loss: 0.3078 - acc: 0.8981 - val_loss: 0.1476 - val_acc: 0.9459\n",
            "7172/7172 [==============================] - 1s 100us/sample - loss: 2061.4421 - acc: 0.1843\n"
          ],
          "name": "stdout"
        },
        {
          "output_type": "execute_result",
          "data": {
            "text/plain": [
              "[2061.442073313537, 0.18432795]"
            ]
          },
          "metadata": {
            "tags": []
          },
          "execution_count": 7
        }
      ]
    },
    {
      "cell_type": "code",
      "metadata": {
        "id": "_Q3Zpr46dsij",
        "colab_type": "code",
        "outputId": "0716b415-44cf-419c-b8ed-5b9615fa9e55",
        "colab": {
          "base_uri": "https://localhost:8080/",
          "height": 545
        }
      },
      "source": [
        "import matplotlib.pyplot as plt\n",
        "acc = history.history['acc']\n",
        "val_acc = history.history['val_acc']\n",
        "loss = history.history['loss']\n",
        "val_loss = history.history['val_loss']\n",
        "\n",
        "epochs = range(len(acc))\n",
        "\n",
        "plt.plot(epochs, acc, 'r', label='Training accuracy')\n",
        "plt.plot(epochs, val_acc, 'b', label='Validation accuracy')\n",
        "plt.title('Training and validation accuracy')\n",
        "plt.legend()\n",
        "plt.figure()\n",
        "\n",
        "plt.plot(epochs, loss, 'r', label='Training Loss')\n",
        "plt.plot(epochs, val_loss, 'b', label='Validation Loss')\n",
        "plt.title('Training and validation loss')\n",
        "plt.legend()\n",
        "\n",
        "plt.show()"
      ],
      "execution_count": 0,
      "outputs": [
        {
          "output_type": "display_data",
          "data": {
            "image/png": "[encoded data removed]",
            "text/plain": [
              "<Figure size 432x288 with 1 Axes>"
            ]
          },
          "metadata": {
            "tags": []
          }
        },
        {
          "output_type": "display_data",
          "data": {
            "image/png": "[encoded data removed]",
            "text/plain": [
              "<Figure size 432x288 with 1 Axes>"
            ]
          },
          "metadata": {
            "tags": []
          }
        }
      ]
    },
    {
      "cell_type": "code",
      "metadata": {
        "id": "dV9xnaq2zB8w",
        "colab_type": "code",
        "colab": {}
      },
      "source": [
        ""
      ],
      "execution_count": 0,
      "outputs": []
    }
  ]
}