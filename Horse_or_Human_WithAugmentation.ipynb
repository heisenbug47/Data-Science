{
  "nbformat": 4,
  "nbformat_minor": 0,
  "metadata": {
    "colab": {
      "name": "Horse-or-Human-WithAugmentation.ipynb",
      "version": "0.3.2",
      "provenance": [],
      "collapsed_sections": [],
      "include_colab_link": true
    },
    "kernelspec": {
      "name": "python3",
      "display_name": "Python 3"
    },
    "accelerator": "GPU"
  },
  "cells": [
    {
      "cell_type": "markdown",
      "metadata": {
        "id": "view-in-github",
        "colab_type": "text"
      },
      "source": [
        "<a href=\"https://colab.research.google.com/github/heisenbug47/Data-Science/blob/master/Horse_or_Human_WithAugmentation.ipynb\" target=\"_parent\"><img src=\"https://colab.research.google.com/assets/colab-badge.svg\" alt=\"Open In Colab\"/></a>"
      ]
    },
    {
      "cell_type": "code",
      "metadata": {
        "colab_type": "code",
        "id": "RXZT2UsyIVe_",
        "outputId": "14bb555b-2b44-43d1-cb6a-6913d1b0eec8",
        "colab": {
          "base_uri": "https://localhost:8080/",
          "height": 411
        }
      },
      "source": [
        "!wget --no-check-certificate \\\n",
        "    https://storage.googleapis.com/laurencemoroney-blog.appspot.com/horse-or-human.zip \\\n",
        "    -O /tmp/horse-or-human.zip\n",
        "\n",
        "!wget --no-check-certificate \\\n",
        "    https://storage.googleapis.com/laurencemoroney-blog.appspot.com/validation-horse-or-human.zip \\\n",
        "    -O /tmp/validation-horse-or-human.zip\n",
        "  \n",
        "import os\n",
        "import zipfile\n",
        "\n",
        "local_zip = '/tmp/horse-or-human.zip'\n",
        "zip_ref = zipfile.ZipFile(local_zip, 'r')\n",
        "zip_ref.extractall('/tmp/horse-or-human')\n",
        "local_zip = '/tmp/validation-horse-or-human.zip'\n",
        "zip_ref = zipfile.ZipFile(local_zip, 'r')\n",
        "zip_ref.extractall('/tmp/validation-horse-or-human')\n",
        "zip_ref.close()\n",
        "# Directory with our training horse pictures\n",
        "train_horse_dir = os.path.join('/tmp/horse-or-human/horses')\n",
        "\n",
        "# Directory with our training human pictures\n",
        "train_human_dir = os.path.join('/tmp/horse-or-human/humans')\n",
        "\n",
        "# Directory with our training horse pictures\n",
        "validation_horse_dir = os.path.join('/tmp/validation-horse-or-human/horses')\n",
        "\n",
        "# Directory with our training human pictures\n",
        "validation_human_dir = os.path.join('/tmp/validation-horse-or-human/humans')"
      ],
      "execution_count": 0,
      "outputs": [
        {
          "output_type": "stream",
          "text": [
            "--2019-07-02 06:53:33--  https://storage.googleapis.com/laurencemoroney-blog.appspot.com/horse-or-human.zip\n",
            "Resolving storage.googleapis.com (storage.googleapis.com)... 74.125.141.128, 2607:f8b0:400c:c06::80\n",
            "Connecting to storage.googleapis.com (storage.googleapis.com)|74.125.141.128|:443... connected.\n",
            "HTTP request sent, awaiting response... 200 OK\n",
            "Length: 149574867 (143M) [application/zip]\n",
            "Saving to: ‘/tmp/horse-or-human.zip’\n",
            "\n",
            "\r/tmp/horse-or-human   0%[                    ]       0  --.-KB/s               \r/tmp/horse-or-human  34%[=====>              ]  48.72M   244MB/s               \r/tmp/horse-or-human  75%[==============>     ] 107.83M   270MB/s               \r/tmp/horse-or-human 100%[===================>] 142.65M   280MB/s    in 0.5s    \n",
            "\n",
            "2019-07-02 06:53:34 (280 MB/s) - ‘/tmp/horse-or-human.zip’ saved [149574867/149574867]\n",
            "\n",
            "--2019-07-02 06:53:35--  https://storage.googleapis.com/laurencemoroney-blog.appspot.com/validation-horse-or-human.zip\n",
            "Resolving storage.googleapis.com (storage.googleapis.com)... 74.125.141.128, 2607:f8b0:400c:c06::80\n",
            "Connecting to storage.googleapis.com (storage.googleapis.com)|74.125.141.128|:443... connected.\n",
            "HTTP request sent, awaiting response... 200 OK\n",
            "Length: 11480187 (11M) [application/zip]\n",
            "Saving to: ‘/tmp/validation-horse-or-human.zip’\n",
            "\n",
            "/tmp/validation-hor 100%[===================>]  10.95M  --.-KB/s    in 0.1s    \n",
            "\n",
            "2019-07-02 06:53:35 (115 MB/s) - ‘/tmp/validation-horse-or-human.zip’ saved [11480187/11480187]\n",
            "\n"
          ],
          "name": "stdout"
        }
      ]
    },
    {
      "cell_type": "markdown",
      "metadata": {
        "colab_type": "text",
        "id": "5oqBkNBJmtUv"
      },
      "source": [
        "## Building a Small Model from Scratch\n",
        "\n",
        "But before we continue, let's start defining the model:\n",
        "\n",
        "Step 1 will be to import tensorflow."
      ]
    },
    {
      "cell_type": "code",
      "metadata": {
        "id": "qvfZg3LQbD-5",
        "colab_type": "code",
        "colab": {}
      },
      "source": [
        "import tensorflow as tf"
      ],
      "execution_count": 0,
      "outputs": []
    },
    {
      "cell_type": "markdown",
      "metadata": {
        "colab_type": "text",
        "id": "BnhYCP4tdqjC"
      },
      "source": [
        "We then add convolutional layers as in the previous example, and flatten the final result to feed into the densely connected layers."
      ]
    },
    {
      "cell_type": "markdown",
      "metadata": {
        "id": "gokG5HKpdtzm",
        "colab_type": "text"
      },
      "source": [
        "Finally we add the densely connected layers. \n",
        "\n",
        "Note that because we are facing a two-class classification problem, i.e. a *binary classification problem*, we will end our network with a [*sigmoid* activation](https://wikipedia.org/wiki/Sigmoid_function), so that the output of our network will be a single scalar between 0 and 1, encoding the probability that the current image is class 1 (as opposed to class 0)."
      ]
    },
    {
      "cell_type": "code",
      "metadata": {
        "id": "PixZ2s5QbYQ3",
        "colab_type": "code",
        "outputId": "c2aeb532-fcc1-4870-b4bc-c1e4c1cc3108",
        "colab": {
          "base_uri": "https://localhost:8080/",
          "height": 105
        }
      },
      "source": [
        "model = tf.keras.models.Sequential([\n",
        "    # Note the input shape is the desired size of the image 300x300 with 3 bytes color\n",
        "    # This is the first convolution\n",
        "    tf.keras.layers.Conv2D(16, (3,3), activation='relu', input_shape=(300, 300, 3)),\n",
        "    tf.keras.layers.MaxPooling2D(2, 2),\n",
        "    # The second convolution\n",
        "    tf.keras.layers.Conv2D(32, (3,3), activation='relu'),\n",
        "    tf.keras.layers.MaxPooling2D(2,2),\n",
        "    # The third convolution\n",
        "    tf.keras.layers.Conv2D(64, (3,3), activation='relu'),\n",
        "    tf.keras.layers.MaxPooling2D(2,2),\n",
        "    # The fourth convolution\n",
        "    tf.keras.layers.Conv2D(64, (3,3), activation='relu'),\n",
        "    tf.keras.layers.MaxPooling2D(2,2),\n",
        "    # The fifth convolution\n",
        "    tf.keras.layers.Conv2D(64, (3,3), activation='relu'),\n",
        "    tf.keras.layers.MaxPooling2D(2,2),\n",
        "    # Flatten the results to feed into a DNN\n",
        "    tf.keras.layers.Flatten(),\n",
        "    # 512 neuron hidden layer\n",
        "    tf.keras.layers.Dense(512, activation='relu'),\n",
        "    # Only 1 output neuron. It will contain a value from 0-1 where 0 for 1 class ('horses') and 1 for the other ('humans')\n",
        "    tf.keras.layers.Dense(1, activation='sigmoid')\n",
        "])"
      ],
      "execution_count": 0,
      "outputs": [
        {
          "output_type": "stream",
          "text": [
            "WARNING: Logging before flag parsing goes to stderr.\n",
            "W0702 06:53:42.655931 140529115064192 deprecation.py:506] From /usr/local/lib/python3.6/dist-packages/tensorflow/python/ops/init_ops.py:1251: calling VarianceScaling.__init__ (from tensorflow.python.ops.init_ops) with dtype is deprecated and will be removed in a future version.\n",
            "Instructions for updating:\n",
            "Call initializer instance with the dtype argument instead of passing it to the constructor\n"
          ],
          "name": "stderr"
        }
      ]
    },
    {
      "cell_type": "code",
      "metadata": {
        "colab_type": "code",
        "id": "8DHWhFP_uhq3",
        "outputId": "0b8b7c7c-add9-4197-a8a1-2742198861ed",
        "colab": {
          "base_uri": "https://localhost:8080/",
          "height": 88
        }
      },
      "source": [
        "from tensorflow.keras.optimizers import RMSprop\n",
        "\n",
        "model.compile(loss='binary_crossentropy',\n",
        "              optimizer=RMSprop(lr=1e-4),\n",
        "              metrics=['acc'])"
      ],
      "execution_count": 0,
      "outputs": [
        {
          "output_type": "stream",
          "text": [
            "W0702 06:53:43.290607 140529115064192 deprecation.py:323] From /usr/local/lib/python3.6/dist-packages/tensorflow/python/ops/nn_impl.py:180: add_dispatch_support.<locals>.wrapper (from tensorflow.python.ops.array_ops) is deprecated and will be removed in a future version.\n",
            "Instructions for updating:\n",
            "Use tf.where in 2.0, which has the same broadcast rule as np.where\n"
          ],
          "name": "stderr"
        }
      ]
    },
    {
      "cell_type": "code",
      "metadata": {
        "colab_type": "code",
        "id": "ClebU9NJg99G",
        "outputId": "37a2aebd-06e0-4f8d-b51a-1ec014cdaf23",
        "colab": {
          "base_uri": "https://localhost:8080/",
          "height": 51
        }
      },
      "source": [
        "from tensorflow.keras.preprocessing.image import ImageDataGenerator\n",
        "\n",
        "# All images will be rescaled by 1./255\n",
        "train_datagen = ImageDataGenerator(\n",
        "      rescale=1./255,\n",
        "      rotation_range=40,\n",
        "      width_shift_range=0.2,\n",
        "      height_shift_range=0.2,\n",
        "      shear_range=0.2,\n",
        "      zoom_range=0.2,\n",
        "      horizontal_flip=True,\n",
        "      fill_mode='nearest')\n",
        "\n",
        "validation_datagen = ImageDataGenerator(rescale=1/255)\n",
        "\n",
        "# Flow training images in batches of 128 using train_datagen generator\n",
        "train_generator = train_datagen.flow_from_directory(\n",
        "        '/tmp/horse-or-human/',  # This is the source directory for training images\n",
        "        target_size=(300, 300),  # All images will be resized to 150x150\n",
        "        batch_size=128,\n",
        "        # Since we use binary_crossentropy loss, we need binary labels\n",
        "        class_mode='binary')\n",
        "\n",
        "# Flow training images in batches of 128 using train_datagen generator\n",
        "validation_generator = validation_datagen.flow_from_directory(\n",
        "        '/tmp/validation-horse-or-human/',  # This is the source directory for training images\n",
        "        target_size=(300, 300),  # All images will be resized to 150x150\n",
        "        batch_size=32,\n",
        "        # Since we use binary_crossentropy loss, we need binary labels\n",
        "        class_mode='binary')"
      ],
      "execution_count": 0,
      "outputs": [
        {
          "output_type": "stream",
          "text": [
            "Found 1027 images belonging to 2 classes.\n",
            "Found 256 images belonging to 2 classes.\n"
          ],
          "name": "stdout"
        }
      ]
    },
    {
      "cell_type": "code",
      "metadata": {
        "colab_type": "code",
        "id": "Fb1_lgobv81m",
        "outputId": "f493f4eb-45f8-4c83-9c5e-b9d478866fa8",
        "colab": {
          "base_uri": "https://localhost:8080/",
          "height": 1000
        }
      },
      "source": [
        "history = model.fit_generator(\n",
        "      train_generator,\n",
        "      steps_per_epoch=8,  \n",
        "      epochs=100,\n",
        "      verbose=1,\n",
        "      validation_data = validation_generator,\n",
        "      validation_steps=8)"
      ],
      "execution_count": 0,
      "outputs": [
        {
          "output_type": "stream",
          "text": [
            "Epoch 1/100\n",
            "8/8 [==============================] - 21s 3s/step - loss: 0.6837 - acc: 0.5562 - val_loss: 0.7054 - val_acc: 0.5000\n",
            "Epoch 2/100\n",
            "8/8 [==============================] - 19s 2s/step - loss: 0.6724 - acc: 0.6263 - val_loss: 0.6428 - val_acc: 0.7070\n",
            "Epoch 3/100\n",
            "8/8 [==============================] - 19s 2s/step - loss: 0.6378 - acc: 0.6974 - val_loss: 0.6515 - val_acc: 0.5195\n",
            "Epoch 4/100\n",
            "8/8 [==============================] - 20s 2s/step - loss: 0.6432 - acc: 0.6452 - val_loss: 0.7208 - val_acc: 0.5000\n",
            "Epoch 5/100\n",
            "8/8 [==============================] - 19s 2s/step - loss: 0.5922 - acc: 0.7108 - val_loss: 0.6194 - val_acc: 0.5742\n",
            "Epoch 6/100\n",
            "8/8 [==============================] - 22s 3s/step - loss: 0.5556 - acc: 0.7344 - val_loss: 0.6821 - val_acc: 0.5352\n",
            "Epoch 7/100\n",
            "8/8 [==============================] - 19s 2s/step - loss: 0.5363 - acc: 0.7141 - val_loss: 0.6966 - val_acc: 0.5430\n",
            "Epoch 8/100\n",
            "8/8 [==============================] - 17s 2s/step - loss: 0.5125 - acc: 0.7390 - val_loss: 1.4358 - val_acc: 0.5000\n",
            "Epoch 9/100\n",
            "8/8 [==============================] - 22s 3s/step - loss: 0.5299 - acc: 0.7188 - val_loss: 0.6234 - val_acc: 0.6523\n",
            "Epoch 10/100\n",
            "8/8 [==============================] - 19s 2s/step - loss: 0.5257 - acc: 0.7898 - val_loss: 0.9388 - val_acc: 0.5430\n",
            "Epoch 11/100\n",
            "8/8 [==============================] - 19s 2s/step - loss: 0.4724 - acc: 0.7653 - val_loss: 1.0165 - val_acc: 0.5391\n",
            "Epoch 12/100\n",
            "8/8 [==============================] - 19s 2s/step - loss: 0.5407 - acc: 0.7341 - val_loss: 1.0811 - val_acc: 0.5273\n",
            "Epoch 13/100\n",
            "8/8 [==============================] - 22s 3s/step - loss: 0.4496 - acc: 0.8115 - val_loss: 0.8430 - val_acc: 0.6211\n",
            "Epoch 14/100\n",
            "8/8 [==============================] - 17s 2s/step - loss: 0.4341 - acc: 0.7765 - val_loss: 1.3010 - val_acc: 0.5234\n",
            "Epoch 15/100\n",
            "8/8 [==============================] - 22s 3s/step - loss: 0.4050 - acc: 0.8164 - val_loss: 1.2355 - val_acc: 0.5469\n",
            "Epoch 16/100\n",
            "8/8 [==============================] - 19s 2s/step - loss: 0.4186 - acc: 0.7709 - val_loss: 1.2768 - val_acc: 0.5469\n",
            "Epoch 17/100\n",
            "8/8 [==============================] - 19s 2s/step - loss: 0.4886 - acc: 0.7953 - val_loss: 1.0534 - val_acc: 0.5977\n",
            "Epoch 18/100\n",
            "8/8 [==============================] - 19s 2s/step - loss: 0.3739 - acc: 0.8242 - val_loss: 1.3902 - val_acc: 0.5547\n",
            "Epoch 19/100\n",
            "8/8 [==============================] - 19s 2s/step - loss: 0.3732 - acc: 0.8209 - val_loss: 2.0541 - val_acc: 0.5117\n",
            "Epoch 20/100\n",
            "8/8 [==============================] - 19s 2s/step - loss: 0.3723 - acc: 0.8131 - val_loss: 1.6697 - val_acc: 0.5430\n",
            "Epoch 21/100\n",
            "8/8 [==============================] - 19s 2s/step - loss: 0.3812 - acc: 0.8265 - val_loss: 2.3971 - val_acc: 0.5078\n",
            "Epoch 22/100\n",
            "8/8 [==============================] - 22s 3s/step - loss: 0.3581 - acc: 0.8545 - val_loss: 1.6484 - val_acc: 0.5625\n",
            "Epoch 23/100\n",
            "8/8 [==============================] - 17s 2s/step - loss: 0.3203 - acc: 0.8618 - val_loss: 2.2192 - val_acc: 0.5391\n",
            "Epoch 24/100\n",
            "8/8 [==============================] - 22s 3s/step - loss: 0.3678 - acc: 0.8242 - val_loss: 2.3875 - val_acc: 0.5117\n",
            "Epoch 25/100\n",
            "8/8 [==============================] - 17s 2s/step - loss: 0.3077 - acc: 0.8282 - val_loss: 1.8644 - val_acc: 0.5703\n",
            "Epoch 26/100\n",
            "8/8 [==============================] - 22s 3s/step - loss: 0.3410 - acc: 0.8555 - val_loss: 1.5923 - val_acc: 0.6016\n",
            "Epoch 27/100\n",
            "8/8 [==============================] - 19s 2s/step - loss: 0.3718 - acc: 0.8365 - val_loss: 1.7995 - val_acc: 0.5703\n",
            "Epoch 28/100\n",
            "8/8 [==============================] - 19s 2s/step - loss: 0.3486 - acc: 0.8498 - val_loss: 1.8385 - val_acc: 0.5703\n",
            "Epoch 29/100\n",
            "8/8 [==============================] - 19s 2s/step - loss: 0.3041 - acc: 0.8665 - val_loss: 2.4984 - val_acc: 0.5195\n",
            "Epoch 30/100\n",
            "8/8 [==============================] - 22s 3s/step - loss: 0.3098 - acc: 0.8730 - val_loss: 1.7018 - val_acc: 0.6055\n",
            "Epoch 31/100\n",
            "8/8 [==============================] - 17s 2s/step - loss: 0.2899 - acc: 0.8527 - val_loss: 2.3535 - val_acc: 0.5469\n",
            "Epoch 32/100\n",
            "8/8 [==============================] - 19s 2s/step - loss: 0.3092 - acc: 0.8765 - val_loss: 1.5948 - val_acc: 0.6055\n",
            "Epoch 33/100\n",
            "8/8 [==============================] - 22s 3s/step - loss: 0.3002 - acc: 0.8662 - val_loss: 1.8737 - val_acc: 0.6094\n",
            "Epoch 34/100\n",
            "8/8 [==============================] - 19s 2s/step - loss: 0.3199 - acc: 0.8498 - val_loss: 2.1660 - val_acc: 0.5938\n",
            "Epoch 35/100\n",
            "8/8 [==============================] - 19s 2s/step - loss: 0.2634 - acc: 0.8999 - val_loss: 2.3175 - val_acc: 0.5898\n",
            "Epoch 36/100\n",
            "8/8 [==============================] - 19s 2s/step - loss: 0.2492 - acc: 0.8854 - val_loss: 2.4054 - val_acc: 0.5781\n",
            "Epoch 37/100\n",
            "8/8 [==============================] - 19s 2s/step - loss: 0.2967 - acc: 0.8409 - val_loss: 2.1290 - val_acc: 0.5898\n",
            "Epoch 38/100\n",
            "8/8 [==============================] - 19s 2s/step - loss: 0.2692 - acc: 0.8821 - val_loss: 1.7443 - val_acc: 0.6328\n",
            "Epoch 39/100\n",
            "8/8 [==============================] - 19s 2s/step - loss: 0.3087 - acc: 0.8765 - val_loss: 1.4928 - val_acc: 0.6602\n",
            "Epoch 40/100\n",
            "8/8 [==============================] - 19s 2s/step - loss: 0.2561 - acc: 0.8765 - val_loss: 1.4728 - val_acc: 0.6836\n",
            "Epoch 41/100\n",
            "8/8 [==============================] - 22s 3s/step - loss: 0.2564 - acc: 0.8975 - val_loss: 1.8054 - val_acc: 0.6445\n",
            "Epoch 42/100\n",
            "8/8 [==============================] - 19s 2s/step - loss: 0.2361 - acc: 0.8988 - val_loss: 3.6803 - val_acc: 0.5156\n",
            "Epoch 43/100\n",
            "8/8 [==============================] - 19s 2s/step - loss: 0.2722 - acc: 0.8865 - val_loss: 2.0694 - val_acc: 0.6250\n",
            "Epoch 44/100\n",
            "8/8 [==============================] - 20s 2s/step - loss: 0.2114 - acc: 0.9177 - val_loss: 2.8117 - val_acc: 0.5703\n",
            "Epoch 45/100\n",
            "8/8 [==============================] - 19s 2s/step - loss: 0.2183 - acc: 0.8932 - val_loss: 2.5832 - val_acc: 0.5938\n",
            "Epoch 46/100\n",
            "8/8 [==============================] - 19s 2s/step - loss: 0.3427 - acc: 0.8732 - val_loss: 2.5091 - val_acc: 0.5977\n",
            "Epoch 47/100\n",
            "8/8 [==============================] - 22s 3s/step - loss: 0.1902 - acc: 0.9307 - val_loss: 2.3375 - val_acc: 0.6094\n",
            "Epoch 48/100\n",
            "8/8 [==============================] - 17s 2s/step - loss: 0.2213 - acc: 0.8760 - val_loss: 2.0459 - val_acc: 0.6406\n",
            "Epoch 49/100\n",
            "8/8 [==============================] - 22s 3s/step - loss: 0.2170 - acc: 0.9092 - val_loss: 2.7020 - val_acc: 0.6016\n",
            "Epoch 50/100\n",
            "8/8 [==============================] - 20s 2s/step - loss: 0.2508 - acc: 0.8699 - val_loss: 2.2180 - val_acc: 0.6016\n",
            "Epoch 51/100\n",
            "8/8 [==============================] - 17s 2s/step - loss: 0.2011 - acc: 0.9121 - val_loss: 5.5817 - val_acc: 0.5039\n",
            "Epoch 52/100\n",
            "8/8 [==============================] - 19s 2s/step - loss: 0.2934 - acc: 0.8921 - val_loss: 3.5942 - val_acc: 0.5508\n",
            "Epoch 53/100\n",
            "8/8 [==============================] - 22s 3s/step - loss: 0.2354 - acc: 0.9043 - val_loss: 2.7178 - val_acc: 0.6016\n",
            "Epoch 54/100\n",
            "8/8 [==============================] - 19s 2s/step - loss: 0.2241 - acc: 0.8943 - val_loss: 2.3903 - val_acc: 0.6133\n",
            "Epoch 55/100\n",
            "8/8 [==============================] - 19s 2s/step - loss: 0.1606 - acc: 0.9321 - val_loss: 3.3939 - val_acc: 0.5547\n",
            "Epoch 56/100\n",
            "8/8 [==============================] - 22s 3s/step - loss: 0.2596 - acc: 0.8857 - val_loss: 2.6190 - val_acc: 0.6094\n",
            "Epoch 57/100\n",
            "8/8 [==============================] - 17s 2s/step - loss: 0.2823 - acc: 0.8824 - val_loss: 2.1789 - val_acc: 0.6172\n",
            "Epoch 58/100\n",
            "8/8 [==============================] - 22s 3s/step - loss: 0.1756 - acc: 0.9316 - val_loss: 2.5405 - val_acc: 0.6367\n",
            "Epoch 59/100\n",
            "8/8 [==============================] - 16s 2s/step - loss: 0.2361 - acc: 0.8850 - val_loss: 3.5327 - val_acc: 0.5586\n",
            "Epoch 60/100\n",
            "8/8 [==============================] - 22s 3s/step - loss: 0.1719 - acc: 0.9336 - val_loss: 2.9537 - val_acc: 0.6055\n",
            "Epoch 61/100\n",
            "8/8 [==============================] - 19s 2s/step - loss: 0.1700 - acc: 0.9255 - val_loss: 2.8338 - val_acc: 0.6055\n",
            "Epoch 62/100\n",
            "8/8 [==============================] - 19s 2s/step - loss: 0.1384 - acc: 0.9399 - val_loss: 4.4051 - val_acc: 0.5312\n",
            "Epoch 63/100\n",
            "8/8 [==============================] - 19s 2s/step - loss: 0.1678 - acc: 0.9255 - val_loss: 3.2699 - val_acc: 0.6133\n",
            "Epoch 64/100\n",
            "8/8 [==============================] - 19s 2s/step - loss: 0.2532 - acc: 0.8843 - val_loss: 2.6282 - val_acc: 0.6172\n",
            "Epoch 65/100\n",
            "8/8 [==============================] - 19s 2s/step - loss: 0.1452 - acc: 0.9544 - val_loss: 1.7805 - val_acc: 0.6875\n",
            "Epoch 66/100\n",
            "8/8 [==============================] - 22s 3s/step - loss: 0.2122 - acc: 0.9111 - val_loss: 2.5065 - val_acc: 0.6562\n",
            "Epoch 67/100\n",
            "8/8 [==============================] - 17s 2s/step - loss: 0.2134 - acc: 0.9057 - val_loss: 2.0832 - val_acc: 0.6562\n",
            "Epoch 68/100\n",
            "8/8 [==============================] - 19s 2s/step - loss: 0.3528 - acc: 0.9021 - val_loss: 1.4811 - val_acc: 0.6992\n",
            "Epoch 69/100\n",
            "8/8 [==============================] - 22s 3s/step - loss: 0.1944 - acc: 0.9248 - val_loss: 1.8537 - val_acc: 0.6758\n",
            "Epoch 70/100\n",
            "8/8 [==============================] - 19s 2s/step - loss: 0.1320 - acc: 0.9577 - val_loss: 2.6721 - val_acc: 0.6445\n",
            "Epoch 71/100\n",
            "8/8 [==============================] - 19s 2s/step - loss: 0.1740 - acc: 0.9155 - val_loss: 2.2851 - val_acc: 0.6602\n",
            "Epoch 72/100\n",
            "8/8 [==============================] - 19s 2s/step - loss: 0.1424 - acc: 0.9511 - val_loss: 2.9773 - val_acc: 0.6367\n",
            "Epoch 73/100\n",
            "8/8 [==============================] - 19s 2s/step - loss: 0.1797 - acc: 0.9155 - val_loss: 3.1078 - val_acc: 0.5977\n",
            "Epoch 74/100\n",
            "8/8 [==============================] - 19s 2s/step - loss: 0.1549 - acc: 0.9388 - val_loss: 1.6007 - val_acc: 0.7305\n",
            "Epoch 75/100\n",
            "8/8 [==============================] - 22s 3s/step - loss: 0.1602 - acc: 0.9365 - val_loss: 2.5735 - val_acc: 0.6562\n",
            "Epoch 76/100\n",
            "8/8 [==============================] - 17s 2s/step - loss: 0.2458 - acc: 0.9121 - val_loss: 3.0657 - val_acc: 0.6406\n",
            "Epoch 77/100\n",
            "8/8 [==============================] - 19s 2s/step - loss: 0.1278 - acc: 0.9499 - val_loss: 3.1932 - val_acc: 0.6367\n",
            "Epoch 78/100\n",
            "8/8 [==============================] - 22s 3s/step - loss: 0.1243 - acc: 0.9570 - val_loss: 4.9819 - val_acc: 0.5547\n",
            "Epoch 79/100\n",
            "8/8 [==============================] - 19s 2s/step - loss: 0.1869 - acc: 0.9244 - val_loss: 2.7155 - val_acc: 0.6562\n",
            "Epoch 80/100\n",
            "8/8 [==============================] - 19s 2s/step - loss: 0.1739 - acc: 0.9188 - val_loss: 3.8906 - val_acc: 0.5547\n",
            "Epoch 81/100\n",
            "8/8 [==============================] - 19s 2s/step - loss: 0.1194 - acc: 0.9533 - val_loss: 3.4180 - val_acc: 0.6211\n",
            "Epoch 82/100\n",
            "8/8 [==============================] - 19s 2s/step - loss: 0.1752 - acc: 0.9132 - val_loss: 3.0198 - val_acc: 0.6016\n",
            "Epoch 83/100\n",
            "8/8 [==============================] - 19s 2s/step - loss: 0.1112 - acc: 0.9689 - val_loss: 2.1261 - val_acc: 0.7266\n",
            "Epoch 84/100\n",
            "8/8 [==============================] - 19s 2s/step - loss: 0.2750 - acc: 0.9188 - val_loss: 3.0056 - val_acc: 0.6289\n",
            "Epoch 85/100\n",
            "8/8 [==============================] - 19s 2s/step - loss: 0.1015 - acc: 0.9677 - val_loss: 2.9823 - val_acc: 0.6367\n",
            "Epoch 86/100\n",
            "8/8 [==============================] - 22s 3s/step - loss: 0.1290 - acc: 0.9551 - val_loss: 2.1899 - val_acc: 0.6953\n",
            "Epoch 87/100\n",
            "8/8 [==============================] - 19s 2s/step - loss: 0.1338 - acc: 0.9388 - val_loss: 3.7279 - val_acc: 0.6016\n",
            "Epoch 88/100\n",
            "8/8 [==============================] - 19s 2s/step - loss: 0.1280 - acc: 0.9511 - val_loss: 2.2371 - val_acc: 0.6797\n",
            "Epoch 89/100\n",
            "8/8 [==============================] - 19s 2s/step - loss: 0.1027 - acc: 0.9488 - val_loss: 4.1614 - val_acc: 0.5977\n",
            "Epoch 90/100\n",
            "8/8 [==============================] - 19s 2s/step - loss: 0.1611 - acc: 0.9333 - val_loss: 3.2842 - val_acc: 0.6406\n",
            "Epoch 91/100\n",
            "8/8 [==============================] - 19s 2s/step - loss: 0.1028 - acc: 0.9611 - val_loss: 4.2632 - val_acc: 0.5742\n",
            "Epoch 92/100\n",
            "8/8 [==============================] - 19s 2s/step - loss: 0.1130 - acc: 0.9511 - val_loss: 3.1282 - val_acc: 0.6445\n",
            "Epoch 93/100\n",
            "8/8 [==============================] - 19s 2s/step - loss: 0.1281 - acc: 0.9444 - val_loss: 2.9758 - val_acc: 0.6484\n",
            "Epoch 94/100\n",
            "8/8 [==============================] - 22s 3s/step - loss: 0.1201 - acc: 0.9570 - val_loss: 4.8147 - val_acc: 0.5547\n",
            "Epoch 95/100\n",
            "8/8 [==============================] - 19s 2s/step - loss: 0.0877 - acc: 0.9689 - val_loss: 4.5319 - val_acc: 0.5898\n",
            "Epoch 96/100\n",
            "8/8 [==============================] - 16s 2s/step - loss: 0.1692 - acc: 0.9147 - val_loss: 3.2225 - val_acc: 0.6289\n",
            "Epoch 97/100\n",
            "8/8 [==============================] - 19s 2s/step - loss: 0.0838 - acc: 0.9655 - val_loss: 4.1869 - val_acc: 0.6016\n",
            "Epoch 98/100\n",
            "8/8 [==============================] - 22s 3s/step - loss: 0.0851 - acc: 0.9707 - val_loss: 2.8981 - val_acc: 0.6602\n",
            "Epoch 99/100\n",
            "8/8 [==============================] - 19s 2s/step - loss: 0.1713 - acc: 0.9310 - val_loss: 3.1947 - val_acc: 0.6523\n",
            "Epoch 100/100\n",
            "8/8 [==============================] - 19s 2s/step - loss: 0.1031 - acc: 0.9622 - val_loss: 2.9899 - val_acc: 0.6562\n"
          ],
          "name": "stdout"
        }
      ]
    },
    {
      "cell_type": "code",
      "metadata": {
        "id": "7zNPRWOVJdOH",
        "colab_type": "code",
        "outputId": "68e97c32-4ddf-48d6-ca05-c2df2a0df7e1",
        "colab": {
          "base_uri": "https://localhost:8080/",
          "height": 545
        }
      },
      "source": [
        "import matplotlib.pyplot as plt\n",
        "acc = history.history['acc']\n",
        "val_acc = history.history['val_acc']\n",
        "loss = history.history['loss']\n",
        "val_loss = history.history['val_loss']\n",
        "\n",
        "epochs = range(len(acc))\n",
        "\n",
        "plt.plot(epochs, acc, 'r', label='Training accuracy')\n",
        "plt.plot(epochs, val_acc, 'b', label='Validation accuracy')\n",
        "plt.title('Training and validation accuracy')\n",
        "\n",
        "plt.figure()\n",
        "\n",
        "plt.plot(epochs, loss, 'r', label='Training Loss')\n",
        "plt.plot(epochs, val_loss, 'b', label='Validation Loss')\n",
        "plt.title('Training and validation loss')\n",
        "plt.legend()\n",
        "\n",
        "plt.show()"
      ],
      "execution_count": 0,
      "outputs": [
        {
          "output_type": "display_data",
          "data": {
            "image/png": "[encoded data removed]",
            "text/plain": [
              "<Figure size 432x288 with 1 Axes>"
            ]
          },
          "metadata": {
            "tags": []
          }
        },
        {
          "output_type": "display_data",
          "data": {
            "image/png": "[encoded data removed]",
            "text/plain": [
              "<Figure size 432x288 with 1 Axes>"
            ]
          },
          "metadata": {
            "tags": []
          }
        }
      ]
    },
    {
      "cell_type": "code",
      "metadata": {
        "id": "zjNBAPH5dfn4",
        "colab_type": "code",
        "colab": {}
      },
      "source": [
        ""
      ],
      "execution_count": 0,
      "outputs": []
    }
  ]
}